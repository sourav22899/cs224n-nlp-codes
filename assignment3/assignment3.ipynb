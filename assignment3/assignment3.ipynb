{
  "nbformat": 4,
  "nbformat_minor": 0,
  "metadata": {
    "colab": {
      "name": "assignment3.ipynb",
      "version": "0.3.2",
      "provenance": []
    },
    "kernelspec": {
      "name": "python3",
      "display_name": "Python 3"
    },
    "accelerator": "GPU"
  },
  "cells": [
    {
      "metadata": {
        "id": "nC_05Q15ngfz",
        "colab_type": "code",
        "colab": {
          "base_uri": "https://localhost:8080/",
          "height": 124
        },
        "outputId": "7d98ad7f-fa21-4d53-f604-972acd077526"
      },
      "cell_type": "code",
      "source": [
        "from google.colab import drive\n",
        "drive.mount('/content/drive')"
      ],
      "execution_count": 5,
      "outputs": [
        {
          "output_type": "stream",
          "text": [
            "Go to this URL in a browser: https://accounts.google.com/o/oauth2/auth?client_id=947318989803-6bn6qk8qdgf4n4g3pfee6491hc0brc4i.apps.googleusercontent.com&redirect_uri=urn%3Aietf%3Awg%3Aoauth%3A2.0%3Aoob&scope=email%20https%3A%2F%2Fwww.googleapis.com%2Fauth%2Fdocs.test%20https%3A%2F%2Fwww.googleapis.com%2Fauth%2Fdrive%20https%3A%2F%2Fwww.googleapis.com%2Fauth%2Fdrive.photos.readonly%20https%3A%2F%2Fwww.googleapis.com%2Fauth%2Fpeopleapi.readonly&response_type=code\n",
            "\n",
            "Enter your authorization code:\n",
            "··········\n",
            "Mounted at /content/drive\n"
          ],
          "name": "stdout"
        }
      ]
    },
    {
      "metadata": {
        "id": "8yoC2DoCqzBj",
        "colab_type": "code",
        "colab": {
          "base_uri": "https://localhost:8080/",
          "height": 104
        },
        "outputId": "9df2ed6a-3652-4cad-8636-e14ea716143f"
      },
      "cell_type": "code",
      "source": [
        "!ls /content/drive/My\\ Drive\n",
        "!cd My\\ Drive"
      ],
      "execution_count": 6,
      "outputs": [
        {
          "output_type": "stream",
          "text": [
            " 20180908_193720.jpg   chatclient_udp.c   detect.ipynb\n",
            " 20180913_104358.png   chatserver_udp.c  'Gone Girl (2014)'\n",
            "'5G Project'\t       cnn\t\t  revised\n",
            " assignment3\t      'Colab Notebooks'  'The Shawshank Redemption (1994)'\n",
            "/bin/bash: line 0: cd: My Drive: No such file or directory\n"
          ],
          "name": "stdout"
        }
      ]
    },
    {
      "metadata": {
        "id": "ehtWrqfBrafp",
        "colab_type": "code",
        "colab": {
          "base_uri": "https://localhost:8080/",
          "height": 34
        },
        "outputId": "0b7edc92-8f0c-424b-a872-7217337f6201"
      },
      "cell_type": "code",
      "source": [
        "cd drive"
      ],
      "execution_count": 7,
      "outputs": [
        {
          "output_type": "stream",
          "text": [
            "/content/drive\n"
          ],
          "name": "stdout"
        }
      ]
    },
    {
      "metadata": {
        "id": "_D1O0hZIryQL",
        "colab_type": "code",
        "colab": {
          "base_uri": "https://localhost:8080/",
          "height": 34
        },
        "outputId": "3869c4cf-e1ca-42ee-d416-09fdf1793373"
      },
      "cell_type": "code",
      "source": [
        "ls\n"
      ],
      "execution_count": 8,
      "outputs": [
        {
          "output_type": "stream",
          "text": [
            "\u001b[0m\u001b[01;34m'My Drive'\u001b[0m/\n"
          ],
          "name": "stdout"
        }
      ]
    },
    {
      "metadata": {
        "id": "6Gz2uEcjr12p",
        "colab_type": "code",
        "colab": {
          "base_uri": "https://localhost:8080/",
          "height": 34
        },
        "outputId": "d9a7962c-a3a8-4530-d03a-259cd97d80fb"
      },
      "cell_type": "code",
      "source": [
        "cd My\\ Drive"
      ],
      "execution_count": 9,
      "outputs": [
        {
          "output_type": "stream",
          "text": [
            "/content/drive/My Drive\n"
          ],
          "name": "stdout"
        }
      ]
    },
    {
      "metadata": {
        "id": "m6_JwXu5r5T9",
        "colab_type": "code",
        "colab": {
          "base_uri": "https://localhost:8080/",
          "height": 86
        },
        "outputId": "44710452-e3fd-4e80-b71e-7f965e12e232"
      },
      "cell_type": "code",
      "source": [
        "ls\n"
      ],
      "execution_count": 10,
      "outputs": [
        {
          "output_type": "stream",
          "text": [
            " 20180908_193720.jpg   chatclient_udp.c    detect.ipynb\n",
            " 20180913_104358.png   chatserver_udp.c   \u001b[0m\u001b[01;34m'Gone Girl (2014)'\u001b[0m/\n",
            "\u001b[01;34m'5G Project'\u001b[0m/          \u001b[01;34mcnn\u001b[0m/                \u001b[01;34mrevised\u001b[0m/\n",
            " \u001b[01;34massignment3\u001b[0m/         \u001b[01;34m'Colab Notebooks'\u001b[0m/  \u001b[01;34m'The Shawshank Redemption (1994)'\u001b[0m/\n"
          ],
          "name": "stdout"
        }
      ]
    },
    {
      "metadata": {
        "id": "OW6jBGN0r8YO",
        "colab_type": "code",
        "colab": {
          "base_uri": "https://localhost:8080/",
          "height": 34
        },
        "outputId": "7d7449f8-0a5f-46cc-ea04-e756e459c50d"
      },
      "cell_type": "code",
      "source": [
        "cd assignment3"
      ],
      "execution_count": 11,
      "outputs": [
        {
          "output_type": "stream",
          "text": [
            "/content/drive/My Drive/assignment3\n"
          ],
          "name": "stdout"
        }
      ]
    },
    {
      "metadata": {
        "id": "0H9tSzz9r_RP",
        "colab_type": "code",
        "colab": {
          "base_uri": "https://localhost:8080/",
          "height": 69
        },
        "outputId": "5445498b-37b9-449e-d149-d4171fd15780"
      },
      "cell_type": "code",
      "source": [
        "ls"
      ],
      "execution_count": 12,
      "outputs": [
        {
          "output_type": "stream",
          "text": [
            "\u001b[0m\u001b[01;34mdata\u001b[0m/         model.py      q1_window.py    q3_gru_cell.py    \u001b[01;34mresults\u001b[0m/\n",
            "data_util.py  ner_model.py  q2_rnn_cell.py  q3_gru.py         Untitled0.ipynb\n",
            "defs.py       \u001b[01;34m__pycache__\u001b[0m/  q2_rnn.py       requirements.txt  util.py\n"
          ],
          "name": "stdout"
        }
      ]
    },
    {
      "metadata": {
        "id": "0DX-TNhvuIdU",
        "colab_type": "code",
        "colab": {}
      },
      "cell_type": "code",
      "source": [
        "%load q3_gru.py"
      ],
      "execution_count": 0,
      "outputs": []
    },
    {
      "metadata": {
        "id": "pjmoUuv4uRvK",
        "colab_type": "code",
        "colab": {
          "base_uri": "https://localhost:8080/",
          "height": 4691
        },
        "outputId": "b614f1ee-f509-4b5e-e98a-60815aec2952"
      },
      "cell_type": "code",
      "source": [
        "%run q2_rnn.py train -c gru"
      ],
      "execution_count": 14,
      "outputs": [
        {
          "output_type": "stream",
          "text": [
            "INFO:Loading training data...\n",
            "INFO:Done. Read 14041 sentences\n",
            "INFO:Loading dev data...\n",
            "INFO:Done. Read 3250 sentences\n",
            "INFO:Built dictionary for 10007 features.\n",
            "INFO:Initialized embeddings.\n",
            "INFO:Building model...\n",
            "/usr/local/lib/python3.6/dist-packages/tensorflow/python/ops/gradients_impl.py:112: UserWarning: Converting sparse IndexedSlices to a dense Tensor of unknown shape. This may consume a large amount of memory.\n",
            "  \"Converting sparse IndexedSlices to a dense Tensor of unknown shape. \"\n",
            "INFO:took 33.16 seconds\n",
            "INFO:Epoch 1 out of 10\n"
          ],
          "name": "stderr"
        },
        {
          "output_type": "stream",
          "text": [
            "439/439 [==============================] - 75s - train loss: 0.1937    "
          ],
          "name": "stdout"
        },
        {
          "output_type": "stream",
          "text": [
            "INFO:Evaluating on development data\n"
          ],
          "name": "stderr"
        },
        {
          "output_type": "stream",
          "text": [
            "\n",
            "102/102 [==============================] - 237s   "
          ],
          "name": "stdout"
        },
        {
          "output_type": "stream",
          "text": [
            "DEBUG:Token-level confusion matrix:\n",
            "go\\gu   \tPER     \tORG     \tLOC     \tMISC    \tO       \n",
            "PER     \t2912.00 \t57.00   \t28.00   \t24.00   \t128.00  \n",
            "ORG     \t294.00  \t1338.00 \t87.00   \t168.00  \t205.00  \n",
            "LOC     \t115.00  \t201.00  \t1549.00 \t120.00  \t109.00  \n",
            "MISC    \t84.00   \t73.00   \t48.00   \t922.00  \t141.00  \n",
            "O       \t54.00   \t58.00   \t11.00   \t64.00   \t42572.00\n",
            "\n",
            "DEBUG:Token-level scores:\n",
            "label\tacc  \tprec \trec  \tf1   \n",
            "PER  \t0.98 \t0.84 \t0.92 \t0.88 \n",
            "ORG  \t0.98 \t0.77 \t0.64 \t0.70 \n",
            "LOC  \t0.99 \t0.90 \t0.74 \t0.81 \n",
            "MISC \t0.99 \t0.71 \t0.73 \t0.72 \n",
            "O    \t0.99 \t0.99 \t1.00 \t0.99 \n",
            "micro\t0.98 \t0.96 \t0.96 \t0.96 \n",
            "macro\t0.98 \t0.84 \t0.81 \t0.82 \n",
            "not-O\t0.98 \t0.82 \t0.78 \t0.80 \n",
            "\n",
            "INFO:Entity level P/R/F1: 0.73/0.74/0.74\n",
            "INFO:New best score! Saving model in results/gru/20190109_122118/model.weights\n"
          ],
          "name": "stderr"
        },
        {
          "output_type": "stream",
          "text": [
            "\n"
          ],
          "name": "stdout"
        },
        {
          "output_type": "stream",
          "text": [
            "INFO:Epoch 2 out of 10\n"
          ],
          "name": "stderr"
        },
        {
          "output_type": "stream",
          "text": [
            "\n",
            "439/439 [==============================] - 64s - train loss: 0.1068    "
          ],
          "name": "stdout"
        },
        {
          "output_type": "stream",
          "text": [
            "INFO:Evaluating on development data\n"
          ],
          "name": "stderr"
        },
        {
          "output_type": "stream",
          "text": [
            "\n",
            "102/102 [==============================] - 244s   "
          ],
          "name": "stdout"
        },
        {
          "output_type": "stream",
          "text": [
            "DEBUG:Token-level confusion matrix:\n",
            "go\\gu   \tPER     \tORG     \tLOC     \tMISC    \tO       \n",
            "PER     \t2979.00 \t66.00   \t23.00   \t12.00   \t69.00   \n",
            "ORG     \t206.00  \t1665.00 \t61.00   \t35.00   \t125.00  \n",
            "LOC     \t121.00  \t265.00  \t1640.00 \t12.00   \t56.00   \n",
            "MISC    \t79.00   \t151.00  \t61.00   \t871.00  \t106.00  \n",
            "O       \t62.00   \t104.00  \t15.00   \t75.00   \t42503.00\n",
            "\n",
            "DEBUG:Token-level scores:\n",
            "label\tacc  \tprec \trec  \tf1   \n",
            "PER  \t0.99 \t0.86 \t0.95 \t0.90 \n",
            "ORG  \t0.98 \t0.74 \t0.80 \t0.77 \n",
            "LOC  \t0.99 \t0.91 \t0.78 \t0.84 \n",
            "MISC \t0.99 \t0.87 \t0.69 \t0.77 \n",
            "O    \t0.99 \t0.99 \t0.99 \t0.99 \n",
            "micro\t0.99 \t0.97 \t0.97 \t0.97 \n",
            "macro\t0.99 \t0.87 \t0.84 \t0.85 \n",
            "not-O\t0.99 \t0.84 \t0.83 \t0.84 \n",
            "\n",
            "INFO:Entity level P/R/F1: 0.77/0.79/0.78\n",
            "INFO:New best score! Saving model in results/gru/20190109_122118/model.weights\n"
          ],
          "name": "stderr"
        },
        {
          "output_type": "stream",
          "text": [
            "\n"
          ],
          "name": "stdout"
        },
        {
          "output_type": "stream",
          "text": [
            "INFO:Epoch 3 out of 10\n"
          ],
          "name": "stderr"
        },
        {
          "output_type": "stream",
          "text": [
            "\n",
            "439/439 [==============================] - 64s - train loss: 0.0734    "
          ],
          "name": "stdout"
        },
        {
          "output_type": "stream",
          "text": [
            "INFO:Evaluating on development data\n"
          ],
          "name": "stderr"
        },
        {
          "output_type": "stream",
          "text": [
            "\n",
            "102/102 [==============================] - 247s   "
          ],
          "name": "stdout"
        },
        {
          "output_type": "stream",
          "text": [
            "DEBUG:Token-level confusion matrix:\n",
            "go\\gu   \tPER     \tORG     \tLOC     \tMISC    \tO       \n",
            "PER     \t2937.00 \t65.00   \t61.00   \t19.00   \t67.00   \n",
            "ORG     \t142.00  \t1670.00 \t92.00   \t59.00   \t129.00  \n",
            "LOC     \t39.00   \t148.00  \t1848.00 \t15.00   \t44.00   \n",
            "MISC    \t44.00   \t81.00   \t72.00   \t961.00  \t110.00  \n",
            "O       \t64.00   \t82.00   \t20.00   \t36.00   \t42557.00\n",
            "\n",
            "DEBUG:Token-level scores:\n",
            "label\tacc  \tprec \trec  \tf1   \n",
            "PER  \t0.99 \t0.91 \t0.93 \t0.92 \n",
            "ORG  \t0.98 \t0.82 \t0.80 \t0.81 \n",
            "LOC  \t0.99 \t0.88 \t0.88 \t0.88 \n",
            "MISC \t0.99 \t0.88 \t0.76 \t0.82 \n",
            "O    \t0.99 \t0.99 \t1.00 \t0.99 \n",
            "micro\t0.99 \t0.97 \t0.97 \t0.97 \n",
            "macro\t0.99 \t0.90 \t0.87 \t0.88 \n",
            "not-O\t0.99 \t0.88 \t0.86 \t0.87 \n",
            "\n",
            "INFO:Entity level P/R/F1: 0.81/0.83/0.82\n",
            "INFO:New best score! Saving model in results/gru/20190109_122118/model.weights\n"
          ],
          "name": "stderr"
        },
        {
          "output_type": "stream",
          "text": [
            "\n"
          ],
          "name": "stdout"
        },
        {
          "output_type": "stream",
          "text": [
            "INFO:Epoch 4 out of 10\n"
          ],
          "name": "stderr"
        },
        {
          "output_type": "stream",
          "text": [
            "\n",
            "439/439 [==============================] - 64s - train loss: 0.0532    "
          ],
          "name": "stdout"
        },
        {
          "output_type": "stream",
          "text": [
            "INFO:Evaluating on development data\n"
          ],
          "name": "stderr"
        },
        {
          "output_type": "stream",
          "text": [
            "\n",
            "102/102 [==============================] - 254s   "
          ],
          "name": "stdout"
        },
        {
          "output_type": "stream",
          "text": [
            "DEBUG:Token-level confusion matrix:\n",
            "go\\gu   \tPER     \tORG     \tLOC     \tMISC    \tO       \n",
            "PER     \t2954.00 \t72.00   \t27.00   \t15.00   \t81.00   \n",
            "ORG     \t145.00  \t1697.00 \t38.00   \t76.00   \t136.00  \n",
            "LOC     \t83.00   \t236.00  \t1678.00 \t29.00   \t68.00   \n",
            "MISC    \t51.00   \t53.00   \t30.00   \t1018.00 \t116.00  \n",
            "O       \t54.00   \t68.00   \t10.00   \t40.00   \t42587.00\n",
            "\n",
            "DEBUG:Token-level scores:\n",
            "label\tacc  \tprec \trec  \tf1   \n",
            "PER  \t0.99 \t0.90 \t0.94 \t0.92 \n",
            "ORG  \t0.98 \t0.80 \t0.81 \t0.80 \n",
            "LOC  \t0.99 \t0.94 \t0.80 \t0.87 \n",
            "MISC \t0.99 \t0.86 \t0.80 \t0.83 \n",
            "O    \t0.99 \t0.99 \t1.00 \t0.99 \n",
            "micro\t0.99 \t0.97 \t0.97 \t0.97 \n",
            "macro\t0.99 \t0.90 \t0.87 \t0.88 \n",
            "not-O\t0.99 \t0.88 \t0.85 \t0.87 \n",
            "\n",
            "INFO:Entity level P/R/F1: 0.81/0.82/0.82\n",
            "INFO:Epoch 5 out of 10\n"
          ],
          "name": "stderr"
        },
        {
          "output_type": "stream",
          "text": [
            "\n",
            "\n",
            "439/439 [==============================] - 65s - train loss: 0.0390    "
          ],
          "name": "stdout"
        },
        {
          "output_type": "stream",
          "text": [
            "INFO:Evaluating on development data\n"
          ],
          "name": "stderr"
        },
        {
          "output_type": "stream",
          "text": [
            "\n",
            "102/102 [==============================] - 260s   "
          ],
          "name": "stdout"
        },
        {
          "output_type": "stream",
          "text": [
            "DEBUG:Token-level confusion matrix:\n",
            "go\\gu   \tPER     \tORG     \tLOC     \tMISC    \tO       \n",
            "PER     \t2924.00 \t82.00   \t50.00   \t42.00   \t51.00   \n",
            "ORG     \t120.00  \t1727.00 \t52.00   \t109.00  \t84.00   \n",
            "LOC     \t47.00   \t203.00  \t1769.00 \t47.00   \t28.00   \n",
            "MISC    \t29.00   \t49.00   \t36.00   \t1072.00 \t82.00   \n",
            "O       \t34.00   \t66.00   \t31.00   \t63.00   \t42565.00\n",
            "\n",
            "DEBUG:Token-level scores:\n",
            "label\tacc  \tprec \trec  \tf1   \n",
            "PER  \t0.99 \t0.93 \t0.93 \t0.93 \n",
            "ORG  \t0.99 \t0.81 \t0.83 \t0.82 \n",
            "LOC  \t0.99 \t0.91 \t0.84 \t0.88 \n",
            "MISC \t0.99 \t0.80 \t0.85 \t0.82 \n",
            "O    \t0.99 \t0.99 \t1.00 \t0.99 \n",
            "micro\t0.99 \t0.97 \t0.97 \t0.97 \n",
            "macro\t0.99 \t0.89 \t0.89 \t0.89 \n",
            "not-O\t0.99 \t0.88 \t0.87 \t0.87 \n",
            "\n",
            "INFO:Entity level P/R/F1: 0.81/0.85/0.83\n",
            "INFO:New best score! Saving model in results/gru/20190109_122118/model.weights\n"
          ],
          "name": "stderr"
        },
        {
          "output_type": "stream",
          "text": [
            "\n"
          ],
          "name": "stdout"
        },
        {
          "output_type": "stream",
          "text": [
            "INFO:Epoch 6 out of 10\n"
          ],
          "name": "stderr"
        },
        {
          "output_type": "stream",
          "text": [
            "\n",
            "439/439 [==============================] - 65s - train loss: 0.0305    "
          ],
          "name": "stdout"
        },
        {
          "output_type": "stream",
          "text": [
            "INFO:Evaluating on development data\n"
          ],
          "name": "stderr"
        },
        {
          "output_type": "stream",
          "text": [
            "\n",
            "102/102 [==============================] - 261s   "
          ],
          "name": "stdout"
        },
        {
          "output_type": "stream",
          "text": [
            "DEBUG:Token-level confusion matrix:\n",
            "go\\gu   \tPER     \tORG     \tLOC     \tMISC    \tO       \n",
            "PER     \t2910.00 \t66.00   \t74.00   \t32.00   \t67.00   \n",
            "ORG     \t101.00  \t1677.00 \t110.00  \t114.00  \t90.00   \n",
            "LOC     \t33.00   \t100.00  \t1903.00 \t28.00   \t30.00   \n",
            "MISC    \t28.00   \t36.00   \t57.00   \t1058.00 \t89.00   \n",
            "O       \t30.00   \t58.00   \t24.00   \t50.00   \t42597.00\n",
            "\n",
            "DEBUG:Token-level scores:\n",
            "label\tacc  \tprec \trec  \tf1   \n",
            "PER  \t0.99 \t0.94 \t0.92 \t0.93 \n",
            "ORG  \t0.99 \t0.87 \t0.80 \t0.83 \n",
            "LOC  \t0.99 \t0.88 \t0.91 \t0.89 \n",
            "MISC \t0.99 \t0.83 \t0.83 \t0.83 \n",
            "O    \t0.99 \t0.99 \t1.00 \t0.99 \n",
            "micro\t0.99 \t0.98 \t0.98 \t0.98 \n",
            "macro\t0.99 \t0.90 \t0.89 \t0.90 \n",
            "not-O\t0.99 \t0.89 \t0.88 \t0.88 \n",
            "\n",
            "INFO:Entity level P/R/F1: 0.83/0.85/0.84\n",
            "INFO:New best score! Saving model in results/gru/20190109_122118/model.weights\n"
          ],
          "name": "stderr"
        },
        {
          "output_type": "stream",
          "text": [
            "\n"
          ],
          "name": "stdout"
        },
        {
          "output_type": "stream",
          "text": [
            "INFO:Epoch 7 out of 10\n"
          ],
          "name": "stderr"
        },
        {
          "output_type": "stream",
          "text": [
            "\n",
            "439/439 [==============================] - 66s - train loss: 0.0244    "
          ],
          "name": "stdout"
        },
        {
          "output_type": "stream",
          "text": [
            "INFO:Evaluating on development data\n"
          ],
          "name": "stderr"
        },
        {
          "output_type": "stream",
          "text": [
            "\n",
            "102/102 [==============================] - 262s   "
          ],
          "name": "stdout"
        },
        {
          "output_type": "stream",
          "text": [
            "DEBUG:Token-level confusion matrix:\n",
            "go\\gu   \tPER     \tORG     \tLOC     \tMISC    \tO       \n",
            "PER     \t2973.00 \t37.00   \t55.00   \t25.00   \t59.00   \n",
            "ORG     \t144.00  \t1625.00 \t100.00  \t115.00  \t108.00  \n",
            "LOC     \t43.00   \t67.00   \t1923.00 \t30.00   \t31.00   \n",
            "MISC    \t42.00   \t25.00   \t57.00   \t1057.00 \t87.00   \n",
            "O       \t29.00   \t50.00   \t25.00   \t37.00   \t42618.00\n",
            "\n",
            "DEBUG:Token-level scores:\n",
            "label\tacc  \tprec \trec  \tf1   \n",
            "PER  \t0.99 \t0.92 \t0.94 \t0.93 \n",
            "ORG  \t0.99 \t0.90 \t0.78 \t0.83 \n",
            "LOC  \t0.99 \t0.89 \t0.92 \t0.90 \n",
            "MISC \t0.99 \t0.84 \t0.83 \t0.83 \n",
            "O    \t0.99 \t0.99 \t1.00 \t1.00 \n",
            "micro\t0.99 \t0.98 \t0.98 \t0.98 \n",
            "macro\t0.99 \t0.91 \t0.89 \t0.90 \n",
            "not-O\t0.99 \t0.90 \t0.88 \t0.89 \n",
            "\n",
            "INFO:Entity level P/R/F1: 0.84/0.86/0.85\n",
            "INFO:New best score! Saving model in results/gru/20190109_122118/model.weights\n"
          ],
          "name": "stderr"
        },
        {
          "output_type": "stream",
          "text": [
            "\n"
          ],
          "name": "stdout"
        },
        {
          "output_type": "stream",
          "text": [
            "INFO:Epoch 8 out of 10\n"
          ],
          "name": "stderr"
        },
        {
          "output_type": "stream",
          "text": [
            "\n",
            "439/439 [==============================] - 65s - train loss: 0.0189    "
          ],
          "name": "stdout"
        },
        {
          "output_type": "stream",
          "text": [
            "INFO:Evaluating on development data\n"
          ],
          "name": "stderr"
        },
        {
          "output_type": "stream",
          "text": [
            "\n",
            "102/102 [==============================] - 262s   "
          ],
          "name": "stdout"
        },
        {
          "output_type": "stream",
          "text": [
            "DEBUG:Token-level confusion matrix:\n",
            "go\\gu   \tPER     \tORG     \tLOC     \tMISC    \tO       \n",
            "PER     \t2992.00 \t65.00   \t23.00   \t16.00   \t53.00   \n",
            "ORG     \t136.00  \t1771.00 \t47.00   \t48.00   \t90.00   \n",
            "LOC     \t67.00   \t155.00  \t1817.00 \t23.00   \t32.00   \n",
            "MISC    \t47.00   \t74.00   \t38.00   \t1016.00 \t93.00   \n",
            "O       \t57.00   \t82.00   \t8.00    \t29.00   \t42583.00\n",
            "\n",
            "DEBUG:Token-level scores:\n",
            "label\tacc  \tprec \trec  \tf1   \n",
            "PER  \t0.99 \t0.91 \t0.95 \t0.93 \n",
            "ORG  \t0.99 \t0.82 \t0.85 \t0.84 \n",
            "LOC  \t0.99 \t0.94 \t0.87 \t0.90 \n",
            "MISC \t0.99 \t0.90 \t0.80 \t0.85 \n",
            "O    \t0.99 \t0.99 \t1.00 \t0.99 \n",
            "micro\t0.99 \t0.98 \t0.98 \t0.98 \n",
            "macro\t0.99 \t0.91 \t0.89 \t0.90 \n",
            "not-O\t0.99 \t0.89 \t0.88 \t0.89 \n",
            "\n",
            "INFO:Entity level P/R/F1: 0.84/0.86/0.85\n",
            "INFO:Epoch 9 out of 10\n"
          ],
          "name": "stderr"
        },
        {
          "output_type": "stream",
          "text": [
            "\n",
            "\n",
            "439/439 [==============================] - 65s - train loss: 0.0158    "
          ],
          "name": "stdout"
        },
        {
          "output_type": "stream",
          "text": [
            "INFO:Evaluating on development data\n"
          ],
          "name": "stderr"
        },
        {
          "output_type": "stream",
          "text": [
            "\n",
            "102/102 [==============================] - 267s   "
          ],
          "name": "stdout"
        },
        {
          "output_type": "stream",
          "text": [
            "DEBUG:Token-level confusion matrix:\n",
            "go\\gu   \tPER     \tORG     \tLOC     \tMISC    \tO       \n",
            "PER     \t2940.00 \t54.00   \t44.00   \t38.00   \t73.00   \n",
            "ORG     \t99.00   \t1723.00 \t75.00   \t96.00   \t99.00   \n",
            "LOC     \t31.00   \t89.00   \t1909.00 \t36.00   \t29.00   \n",
            "MISC    \t31.00   \t47.00   \t42.00   \t1052.00 \t96.00   \n",
            "O       \t29.00   \t68.00   \t18.00   \t33.00   \t42611.00\n",
            "\n",
            "DEBUG:Token-level scores:\n",
            "label\tacc  \tprec \trec  \tf1   \n",
            "PER  \t0.99 \t0.94 \t0.93 \t0.94 \n",
            "ORG  \t0.99 \t0.87 \t0.82 \t0.85 \n",
            "LOC  \t0.99 \t0.91 \t0.91 \t0.91 \n",
            "MISC \t0.99 \t0.84 \t0.83 \t0.83 \n",
            "O    \t0.99 \t0.99 \t1.00 \t0.99 \n",
            "micro\t0.99 \t0.98 \t0.98 \t0.98 \n",
            "macro\t0.99 \t0.91 \t0.90 \t0.90 \n",
            "not-O\t0.99 \t0.90 \t0.89 \t0.89 \n",
            "\n",
            "INFO:Entity level P/R/F1: 0.85/0.86/0.86\n",
            "INFO:New best score! Saving model in results/gru/20190109_122118/model.weights\n"
          ],
          "name": "stderr"
        },
        {
          "output_type": "stream",
          "text": [
            "\n"
          ],
          "name": "stdout"
        },
        {
          "output_type": "stream",
          "text": [
            "INFO:Epoch 10 out of 10\n"
          ],
          "name": "stderr"
        },
        {
          "output_type": "stream",
          "text": [
            "\n",
            "439/439 [==============================] - 65s - train loss: 0.0134    "
          ],
          "name": "stdout"
        },
        {
          "output_type": "stream",
          "text": [
            "INFO:Evaluating on development data\n"
          ],
          "name": "stderr"
        },
        {
          "output_type": "stream",
          "text": [
            "\n",
            "102/102 [==============================] - 260s   "
          ],
          "name": "stdout"
        },
        {
          "output_type": "stream",
          "text": [
            "DEBUG:Token-level confusion matrix:\n",
            "go\\gu   \tPER     \tORG     \tLOC     \tMISC    \tO       \n",
            "PER     \t2977.00 \t67.00   \t41.00   \t10.00   \t54.00   \n",
            "ORG     \t122.00  \t1780.00 \t42.00   \t64.00   \t84.00   \n",
            "LOC     \t52.00   \t165.00  \t1815.00 \t28.00   \t34.00   \n",
            "MISC    \t43.00   \t57.00   \t35.00   \t1033.00 \t100.00  \n",
            "O       \t38.00   \t78.00   \t10.00   \t22.00   \t42611.00\n",
            "\n",
            "DEBUG:Token-level scores:\n",
            "label\tacc  \tprec \trec  \tf1   \n",
            "PER  \t0.99 \t0.92 \t0.95 \t0.93 \n",
            "ORG  \t0.99 \t0.83 \t0.85 \t0.84 \n",
            "LOC  \t0.99 \t0.93 \t0.87 \t0.90 \n",
            "MISC \t0.99 \t0.89 \t0.81 \t0.85 \n",
            "O    \t0.99 \t0.99 \t1.00 \t1.00 \n",
            "micro\t0.99 \t0.98 \t0.98 \t0.98 \n",
            "macro\t0.99 \t0.91 \t0.89 \t0.90 \n",
            "not-O\t0.99 \t0.90 \t0.88 \t0.89 \n",
            "\n",
            "INFO:Entity level P/R/F1: 0.85/0.86/0.86\n"
          ],
          "name": "stderr"
        },
        {
          "output_type": "stream",
          "text": [
            "\n",
            "\n",
            "102/102 [==============================] - 262s   \n"
          ],
          "name": "stdout"
        }
      ]
    }
  ]
}